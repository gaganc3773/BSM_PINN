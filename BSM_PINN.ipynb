{
 "cells": [
  {
   "cell_type": "code",
   "execution_count": 1,
   "id": "ef40b6af-c262-4d95-98e8-cf79c6565a3f",
   "metadata": {},
   "outputs": [],
   "source": [
    "import torch\n",
    "import torch.nn as nn\n",
    "import torch.optim as optim\n",
    "torch.manual_seed(1234)\n",
    "# Define the PINN architecture\n",
    "class PINN(nn.Module):\n",
    "    def __init__(self):\n",
    "        super(PINN, self).__init__()\n",
    "        \n",
    "        self.hidden_layers = nn.Sequential(\n",
    "            nn.Linear(2, 50), nn.ReLU(), #first hidden layer \n",
    "            nn.Linear(50, 50), nn.ReLU(),\n",
    "            nn.Linear(50, 50), nn.ReLU(),\n",
    "            nn.Linear(50, 50), nn.ReLU(),\n",
    "            nn.Linear(50, 1)  # last hidden layer (option price)\n",
    "        )\n",
    "\n",
    "    def forward(self, x):\n",
    "        return self.hidden_layers(x)\n",
    "\n",
    "# Create an instance of the model\n",
    "model = PINN()\n"
   ]
  },
  {
   "cell_type": "code",
   "execution_count": 2,
   "id": "c03514fa-006c-4b90-b316-c277c874cc14",
   "metadata": {},
   "outputs": [],
   "source": [
    "def black_scholes_loss(model, X):\n",
    "    \"\"\" Compute loss from Black-Scholes PDE \"\"\"\n",
    "    X.requires_grad = True  # Enable automatic differentiation\n",
    "    u_pred = model(X)  # Predict option prices\n",
    "\n",
    "    # Compute first derivatives\n",
    "    grads = torch.autograd.grad(u_pred.sum(), X, create_graph=True)[0]\n",
    "    u_t, u_s = grads[:, 0:1], grads[:, 1:2]\n",
    "\n",
    "    # Compute second derivative\n",
    "    grads2 = torch.autograd.grad(u_s.sum(), X, create_graph=True)[0]\n",
    "    u_ss = grads2[:, 1:2]\n",
    "\n",
    "    # Define Black-Scholes parameters\n",
    "    sigma = 0.4  # Volatility\n",
    "    r = 0.03     # Risk-free rate\n",
    "\n",
    "    # Compute residual f(t, S)\n",
    "    f_pred = u_t + 0.5 * sigma**2 * X[:, 1:2]**2 * u_ss + (r * X[:, 1:2] * u_s) - r * u_pred\n",
    "    loss = torch.mean(f_pred**2)  # MSE loss\n",
    "\n",
    "    return loss"
   ]
  },
  {
   "cell_type": "code",
   "execution_count": 3,
   "id": "09edbbc7-f49c-437c-8204-071523924866",
   "metadata": {},
   "outputs": [],
   "source": [
    "import numpy as np\n",
    "\n",
    "# Generate collocation points\n",
    "N_f = 10000  # Number of collocation points\n",
    "t_samples = torch.rand(N_f, 1) * 3  # Random time values (0 to T=3 years)\n",
    "S_samples = torch.rand(N_f, 1) * 500  # Random stock prices (0 to $500)\n",
    "X_f = torch.cat((t_samples, S_samples), dim=1)  # Stack into (t, S) pairs\n"
   ]
  },
  {
   "cell_type": "code",
   "execution_count": null,
   "id": "14b2a83c-66bf-4eda-bc87-af377b029f99",
   "metadata": {},
   "outputs": [
    {
     "name": "stdout",
     "output_type": "stream",
     "text": [
      "Epoch 0: Loss = 0.000452\n",
      "Epoch 50: Loss = 0.000000\n",
      "Epoch 100: Loss = 0.000000\n",
      "Epoch 150: Loss = 0.000000\n",
      "Epoch 200: Loss = 0.000000\n",
      "Epoch 250: Loss = 0.000000\n",
      "Epoch 300: Loss = 0.000000\n"
     ]
    }
   ],
   "source": [
    "optimizer = optim.Adam(model.parameters(), lr=0.005)  # Learning rate = 0.005\n",
    "epochs = 500\n",
    "\n",
    "for epoch in range(epochs):\n",
    "    optimizer.zero_grad()  # Reset gradients\n",
    "    loss = black_scholes_loss(model, X_f)  # Compute PDE loss\n",
    "    loss.backward()  # Backpropagation\n",
    "    optimizer.step()  # Update weights\n",
    "\n",
    "    if epoch % 50 == 0:\n",
    "        print(f\"Epoch {epoch}: Loss = {loss.item():.6f}\")\n"
   ]
  },
  {
   "cell_type": "code",
   "execution_count": null,
   "id": "75695280-6cdb-4844-8470-d3aed5fab1ab",
   "metadata": {},
   "outputs": [],
   "source": [
    "import matplotlib.pyplot as plt\n",
    "\n",
    "# Generate test data\n",
    "S_test = torch.linspace(0, 500, 100).reshape(-1, 1)  # Asset prices\n",
    "t_test = torch.full_like(S_test, 1.5)  # Midway through expiration\n",
    "\n",
    "X_test = torch.cat((t_test, S_test), dim=1)\n",
    "C_pred = model(X_test).detach().numpy()\n",
    "\n",
    "# Plot the option price as a function of stock price\n",
    "plt.figure(figsize=(15,8))\n",
    "plt.plot(S_test.numpy(), C_pred, label=\"PINN Prediction\")\n",
    "plt.scatter(S_test,C_pred,s=10,marker='*',color='red',label='True Labels')\n",
    "plt.xlabel(\"Stock Price\")\n",
    "plt.ylabel(\"Option Price\")\n",
    "plt.title(\"American Call Option Pricing using PINNs\")\n",
    "plt.legend()\n",
    "plt.grid()\n",
    "plt.show()"
   ]
  }
 ],
 "metadata": {
  "kernelspec": {
   "display_name": "Python 3 (ipykernel)",
   "language": "python",
   "name": "python3"
  },
  "language_info": {
   "codemirror_mode": {
    "name": "ipython",
    "version": 3
   },
   "file_extension": ".py",
   "mimetype": "text/x-python",
   "name": "python",
   "nbconvert_exporter": "python",
   "pygments_lexer": "ipython3",
   "version": "3.13.2"
  }
 },
 "nbformat": 4,
 "nbformat_minor": 5
}
